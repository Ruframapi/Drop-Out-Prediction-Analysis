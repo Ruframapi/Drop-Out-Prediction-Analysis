{
 "cells": [
  {
   "cell_type": "markdown",
   "metadata": {},
   "source": [
    "# Time Series Distance Measure"
   ]
  },
  {
   "cell_type": "code",
   "execution_count": 1,
   "metadata": {},
   "outputs": [],
   "source": [
    "import pandas as pd\n",
    "import numpy as np\n",
    "import datetime\n",
    "from collections import Counter\n",
    "\n",
    "#ML Libraries\n",
    "from imblearn.over_sampling import SMOTE\n",
    "from imblearn.over_sampling import RandomOverSampler\n",
    "from imblearn.under_sampling import RandomUnderSampler\n",
    "from sklearn import preprocessing\n",
    "from sklearn.model_selection import cross_validate\n",
    "from sklearn.tree import DecisionTreeClassifier\n",
    "from sklearn.ensemble import RandomForestClassifier\n",
    "from sklearn.naive_bayes import GaussianNB\n",
    "from sklearn.svm import SVC\n",
    "from sklearn.ensemble import GradientBoostingClassifier\n",
    "from sklearn.linear_model import LogisticRegression\n",
    "from sklearn.metrics import classification_report\n",
    "\n",
    "#Distance Measures\n",
    "from tslearn.neighbors import KNeighborsTimeSeriesClassifier, KNeighborsTimeSeries"
   ]
  },
  {
   "cell_type": "markdown",
   "metadata": {},
   "source": [
    "## CSV reading"
   ]
  },
  {
   "cell_type": "code",
   "execution_count": 18,
   "metadata": {},
   "outputs": [
    {
     "name": "stdout",
     "output_type": "stream",
     "text": [
      "Dimensiones del dataset (num_matricu, dimensions (disciplinas), num_semes): \n",
      "(570, 45, 8)\n",
      "Number of samples per class: \n",
      "Counter({0: 532, 1: 38})\n"
     ]
    }
   ],
   "source": [
    "#Los csv que se leen son generados del notebook: 2-Time Series Classification - Feature Extraction Approach\n",
    "#Se reduce el procesamiento\n",
    "\n",
    "#name_file = \"ARQ-BAQ-2002-0_Sem1_2_3_4_Var_grau\"\n",
    "name_file = \"TimeSeriesProgramsToRunServer/Res_Feature_Extraction/ADM-BAN-2001-0_Sem1_2_3_4_5_6_7_8_Var_grau\"\n",
    "\n",
    "df_timeseries = pd.read_csv(name_file + '.csv', sep=';')\n",
    "df_timeseries_label = pd.read_csv(name_file + '_labels.csv', sep=';', header = None , names = ['id','class'], index_col = 'id' ).to_dict('index')\n",
    "\n",
    "timeseries = []\n",
    "timeseries_label = []\n",
    "for matricula,df_aluno in df_timeseries.groupby('id'):\n",
    "    df_aluno.sort_values('semestre')\n",
    "    df_aluno_dc = df_aluno.copy() \n",
    "    df_aluno_dc.drop(columns=['Unnamed: 0', 'id', 'semestre'],inplace=True)\n",
    "    #print df_aluno.values\n",
    "    #print df_aluno_dc.values\n",
    "    timeseries.append(df_aluno_dc.values.transpose())\n",
    "    timeseries_label.append(df_timeseries_label[matricula]['class'])\n",
    "\n",
    "timeseries = np.asarray(timeseries)\n",
    "timeseries_label = np.asarray(timeseries_label)\n",
    "\n",
    "print \"Dimensiones del dataset (num_matricu, dimensions (disciplinas), num_semes): \"\n",
    "print timeseries.shape\n",
    "print \"Number of samples per class: \"\n",
    "contador_class = Counter(timeseries_label) #Despues del Sampling\n",
    "print contador_class\n",
    "\n",
    "\n"
   ]
  },
  {
   "cell_type": "markdown",
   "metadata": {},
   "source": [
    "## Undersampling"
   ]
  },
  {
   "cell_type": "code",
   "execution_count": 19,
   "metadata": {},
   "outputs": [
    {
     "name": "stdout",
     "output_type": "stream",
     "text": [
      "Despues del Undersampling:\n",
      "(76, 45, 8)\n",
      "Counter({0: 38, 1: 38})\n"
     ]
    }
   ],
   "source": [
    "\n",
    "no_dropout_indices, = np.where( timeseries_label == 0)\n",
    "dropout_indices, = np.where( timeseries_label == 1)\n",
    "\n",
    "np.random.seed(42)\n",
    "random_no_dropout_indices = np.random.choice(no_dropout_indices,contador_class[1],replace=False)\n",
    "\n",
    "under_sample_indices = np.concatenate([dropout_indices,random_no_dropout_indices])\n",
    "\n",
    "timeseries_under_sample = timeseries[under_sample_indices]\n",
    "timeseries_label_under_sample = timeseries_label[under_sample_indices]\n",
    "\n",
    "print \"Despues del Undersampling:\"\n",
    "print timeseries_under_sample.shape\n",
    "print Counter(timeseries_label_under_sample)\n"
   ]
  },
  {
   "cell_type": "markdown",
   "metadata": {},
   "source": [
    "## KNN Training"
   ]
  },
  {
   "cell_type": "code",
   "execution_count": 21,
   "metadata": {},
   "outputs": [
    {
     "name": "stdout",
     "output_type": "stream",
     "text": [
      "2018-09-12 18:20:44.411826\n",
      "2018-09-12 18:21:49.834522\n",
      "['test_f1', 'train_accuracy', 'test_recall', 'score_time', 'train_f1', 'fit_time', 'train_precision', 'test_accuracy', 'train_recall', 'test_precision']\n",
      "Accuracy Score:\n",
      "0.75\n",
      "Recall Score:\n",
      "0.763157894736842\n",
      "Precision Score:\n",
      "0.7459893048128342\n",
      "F1 Score:\n",
      "0.7513550135501355\n"
     ]
    }
   ],
   "source": [
    "\n",
    "print(datetime.datetime.now())\n",
    "# Nearest neighbor classification\n",
    "scoring = {'accuracy': 'accuracy',\n",
    "           'precision': 'precision',\n",
    "           'recall': 'recall',\n",
    "           'f1': 'f1'}\n",
    "\n",
    "#KNN Classifier\n",
    "knn_clf = KNeighborsTimeSeriesClassifier(n_neighbors=2, metric=\"dtw\")\n",
    "scores = cross_validate(knn_clf, timeseries_under_sample, timeseries_label_under_sample, scoring=scoring, cv=2)\n",
    "\n",
    "print(datetime.datetime.now())\n",
    "\n",
    "\n",
    "print(scores.keys())\n",
    "print \"Accuracy Score:\" \n",
    "print np.average(scores['test_accuracy'])\n",
    "print \"Recall Score:\"\n",
    "print np.average(scores['test_recall'])\n",
    "print \"Precision Score:\" \n",
    "print np.average(scores['test_precision'])\n",
    "print \"F1 Score:\" \n",
    "print np.average(scores['test_f1'])\n",
    "\n"
   ]
  },
  {
   "cell_type": "code",
   "execution_count": null,
   "metadata": {},
   "outputs": [],
   "source": [
    "##Con la representacion donde el tiempo es el semestre.\n",
    "\"\"\"\n",
    "\n",
    "timeseries = []\n",
    "timeseries_label = []\n",
    "for matricula,df_aluno in df_timeseries.groupby('id'):\n",
    "    df_aluno.sort_values('semestre')\n",
    "    df_aluno_dc = df_aluno.copy() \n",
    "    df_aluno_dc.drop(columns=['Unnamed: 0', 'id', 'semestre'],inplace=True)\n",
    "    #print df_aluno.values\n",
    "    #print df_aluno_dc.values\n",
    "    timeseries.append(df_aluno_dc.values)\n",
    "    timeseries_label.append(df_timeseries_label[matricula]['class'])\n",
    "    \n",
    "\n",
    "print \"Dimensiones del dataset (num_matricu, num_semes, dimensions (disciplinas)): \"\n",
    "print timeseries.shape\n",
    "print \"Number of samples per class: \"\n",
    "contador_class = Counter(timeseries_label) #Despues del Sampling\n",
    "print contador_class\n",
    "\n",
    "#Undersamplig criollo\n",
    "no_dropout_indices, = np.where( timeseries_label == 0)\n",
    "dropout_indices, = np.where( timeseries_label == 1)\n",
    "np.random.seed(42)\n",
    "random_no_dropout_indices = np.random.choice(no_dropout_indices,contador_class[1],replace=False)\n",
    "\n",
    "under_sample_indices = np.concatenate([dropout_indices,random_no_dropout_indices])\n",
    "\n",
    "timeseries_under_sample = timeseries[under_sample_indices]\n",
    "timeseries_label_under_sample = timeseries_label[under_sample_indices]\n",
    "\n",
    "print \"Despues del Undersampling:\"\n",
    "print timeseries_under_sample.shape\n",
    "print Counter(timeseries_label_under_sample)\n",
    "\n",
    "\n",
    "print(datetime.datetime.now())\n",
    "# Nearest neighbor classification\n",
    "scoring = {'accuracy': 'accuracy',\n",
    "           'precision': 'precision',\n",
    "           'recall': 'recall',\n",
    "           'f1': 'f1'}\n",
    "\n",
    "#KNN Classifier\n",
    "knn_clf = KNeighborsTimeSeriesClassifier(n_neighbors=1, metric=\"dtw\")\n",
    "scores = cross_validate(knn_clf, timeseries_under_sample, timeseries_label_under_sample, scoring=scoring, cv=5)\n",
    "\n",
    "print(datetime.datetime.now())\n",
    "\n",
    "\n",
    "print(scores.keys())\n",
    "print \"Accuracy Score:\" \n",
    "print np.average(scores['test_accuracy'])\n",
    "print \"Recall Score:\"\n",
    "print np.average(scores['test_recall'])\n",
    "print \"Precision Score:\" \n",
    "print np.average(scores['test_precision'])\n",
    "print \"F1 Score:\" \n",
    "print np.average(scores['test_f1'])\n",
    "\n",
    "\"\"\""
   ]
  }
 ],
 "metadata": {
  "kernelspec": {
   "display_name": "Python 2",
   "language": "python",
   "name": "python2"
  },
  "language_info": {
   "codemirror_mode": {
    "name": "ipython",
    "version": 2
   },
   "file_extension": ".py",
   "mimetype": "text/x-python",
   "name": "python",
   "nbconvert_exporter": "python",
   "pygments_lexer": "ipython2",
   "version": "2.7.10"
  }
 },
 "nbformat": 4,
 "nbformat_minor": 2
}
